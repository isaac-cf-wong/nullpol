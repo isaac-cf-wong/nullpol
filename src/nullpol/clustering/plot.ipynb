{
 "cells": [
  {
   "cell_type": "code",
   "execution_count": null,
   "metadata": {},
   "outputs": [],
   "source": [
    "\n",
    "%matplotlib inline\n",
    "import matplotlib.pyplot as plt\n",
    "from matplotlib.colors import BoundaryNorm\n",
    "from matplotlib.ticker import MaxNLocator\n",
    "import librosa.display\n",
    "import numpy as np\n",
    "\n",
    "def get_shape_of_wavelet_transform(duration,\n",
    "                                   sampling_frequency,\n",
    "                                   wavelet_frequency_resolution):\n",
    "    \"\"\"A helper function to get the shape of the wavelet transform.\n",
    "    \n",
    "    Parameters\n",
    "    ----------\n",
    "    duration: float\n",
    "        The duration of the data segment.\n",
    "    sampling_frequency: float\n",
    "        The sampling frequency of the data segment.\n",
    "    wavelet_frequency_resolution: float\n",
    "        The frequency resolution of the wavelet transform.\n",
    "    \n",
    "    Returns\n",
    "    -------\n",
    "    Nt, Nf: int, int\n",
    "        The number of time and frequency bins in the wavelet transform.\n",
    "    \"\"\"\n",
    "    Nf = int(sampling_frequency / 2 / wavelet_frequency_resolution)\n",
    "    Nt = int(duration*sampling_frequency / Nf)\n",
    "    return Nt, Nf\n",
    "\n",
    "\n",
    "\n",
    "def plot_spectrogram(spectrogram,\n",
    "                     duration,\n",
    "                     sampling_frequency,\n",
    "                     wavelet_frequency_resolution,\n",
    "                     title=None, savefig=None, dpi=100):\n",
    "    Nt, Nf = get_shape_of_wavelet_transform(duration=duration,\n",
    "                                            sampling_frequency=sampling_frequency,\n",
    "                                            wavelet_frequency_resolution=wavelet_frequency_resolution)\n",
    "    print(Nt, Nf)\n",
    "    sampling_times = np.arange(Nt) * duration / Nt\n",
    "    sampling_frequencies = np.arange(Nf) * wavelet_frequency_resolution\n",
    "    cmap = plt.get_cmap(\"viridis\")\n",
    "    levels = MaxNLocator(nbins=15).tick_values(np.min(spectrogram),np.max(spectrogram))\n",
    "    norm = BoundaryNorm(levels,ncolors=cmap.N,clip=True)\n",
    "    fig, ax = plt.subplots()\n",
    "    img = librosa.display.specshow(spectrogram.T,y_axis=\"log\",x_axis=\"s\",cmap=cmap,norm=norm,x_coords=sampling_times,y_coords=sampling_frequencies,snap=True, ax=ax)\n",
    "    ax.set_title(title)\n",
    "    ax.set_ylabel(\"Frequency (Hz)\")\n",
    "    cbar = fig.colorbar(img,format=\"%.0e\", ax=ax)\n",
    "    cbar.set_label(\"Normalized Energy\")\n",
    "    cbar.ax.yaxis.set_label_position(\"left\")\n",
    "    plt.xlabel(\"Time (s)\")\n",
    "    if savefig is not None:\n",
    "        plt.savefig(savefig,dpi=dpi,bbox_inches=\"tight\")\n",
    "    plt.clf()\n",
    "    plt.close()"
   ]
  },
  {
   "cell_type": "code",
   "execution_count": 2,
   "metadata": {},
   "outputs": [
    {
     "name": "stdout",
     "output_type": "stream",
     "text": [
      "512 64\n"
     ]
    }
   ],
   "source": [
    "spectrogram = np.random.randn(512, 64).astype(bool)\n",
    "duration = 16\n",
    "sampling_frequency = 2048\n",
    "wavelet_frequency_resolution = 16\n",
    "plot_spectrogram(spectrogram, duration, sampling_frequency, wavelet_frequency_resolution, savefig='test.png')"
   ]
  },
  {
   "cell_type": "code",
   "execution_count": null,
   "metadata": {},
   "outputs": [],
   "source": []
  }
 ],
 "metadata": {
  "kernelspec": {
   "display_name": "nullpol-3.10",
   "language": "python",
   "name": "python3"
  },
  "language_info": {
   "codemirror_mode": {
    "name": "ipython",
    "version": 3
   },
   "file_extension": ".py",
   "mimetype": "text/x-python",
   "name": "python",
   "nbconvert_exporter": "python",
   "pygments_lexer": "ipython3",
   "version": "3.10.16"
  }
 },
 "nbformat": 4,
 "nbformat_minor": 2
}
